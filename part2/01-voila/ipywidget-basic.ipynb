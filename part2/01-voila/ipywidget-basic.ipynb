{
 "cells": [
  {
   "cell_type": "markdown",
   "id": "04630eb0-fed2-421a-9239-065409888aba",
   "metadata": {},
   "source": [
    "# ipywidget 사용 방법 by zzsza"
   ]
  },
  {
   "cell_type": "code",
   "execution_count": 97,
   "id": "bbe4665f-0684-4470-a174-0165fb52839f",
   "metadata": {},
   "outputs": [],
   "source": [
    "import ipywidgets as widgets\n",
    "from IPython.display import display"
   ]
  },
  {
   "cell_type": "markdown",
   "id": "1311e762-a652-448f-84a7-f88a0a86b09b",
   "metadata": {},
   "source": [
    "### Numeric widgets\n",
    "- 숫자값을 표시하게 설계된 위젯\n",
    "- Int, Float, FloatLog, IntRange, FloatRange \n",
    "\n",
    "### Slider\n",
    "- Int 값을 조절할 수 있는 Slider"
   ]
  },
  {
   "cell_type": "code",
   "execution_count": 98,
   "id": "4e5d8ad0-6b6d-46c9-8071-3263016f35a7",
   "metadata": {},
   "outputs": [
    {
     "data": {
      "application/vnd.jupyter.widget-view+json": {
       "model_id": "78ae92041607422f8fe80781fa48f396",
       "version_major": 2,
       "version_minor": 0
      },
      "text/plain": [
       "IntSlider(value=0)"
      ]
     },
     "metadata": {},
     "output_type": "display_data"
    }
   ],
   "source": [
    "widgets.IntSlider()"
   ]
  },
  {
   "cell_type": "code",
   "execution_count": 99,
   "id": "fd163d6b-da7e-4e77-8096-6f3d970e72df",
   "metadata": {},
   "outputs": [
    {
     "data": {
      "application/vnd.jupyter.widget-view+json": {
       "model_id": "1af64cfb0e6f4298a9379c14dbb38500",
       "version_major": 2,
       "version_minor": 0
      },
      "text/plain": [
       "IntSlider(value=0)"
      ]
     },
     "metadata": {},
     "output_type": "display_data"
    }
   ],
   "source": [
    "int_slider = widgets.IntSlider()\n",
    "display(int_slider)"
   ]
  },
  {
   "cell_type": "code",
   "execution_count": 100,
   "id": "5d51219c-3792-4378-8076-dd896e004b87",
   "metadata": {},
   "outputs": [
    {
     "data": {
      "application/vnd.jupyter.widget-view+json": {
       "model_id": "790882eedfd14d67b6086ea1037a0edb",
       "version_major": 2,
       "version_minor": 0
      },
      "text/plain": [
       "IntSlider(value=7, description='Value:', max=10)"
      ]
     },
     "metadata": {},
     "output_type": "display_data"
    }
   ],
   "source": [
    "widgets.IntSlider(\n",
    "    value=7,\n",
    "    min=0,\n",
    "    max=10,\n",
    "    step=1,\n",
    "    orientation='horizontal',\n",
    "    description='Value:',\n",
    ")\n"
   ]
  },
  {
   "cell_type": "code",
   "execution_count": 101,
   "id": "cdbc5574-a9dd-4d43-b986-df991997b2c3",
   "metadata": {},
   "outputs": [
    {
     "data": {
      "application/vnd.jupyter.widget-view+json": {
       "model_id": "7634f7b990864631aed3e69ce5cd4751",
       "version_major": 2,
       "version_minor": 0
      },
      "text/plain": [
       "IntSlider(value=1, description='Value:', max=3, orientation='vertical')"
      ]
     },
     "metadata": {},
     "output_type": "display_data"
    }
   ],
   "source": [
    "widgets.IntSlider(\n",
    "    value=1,\n",
    "    min=0,\n",
    "    max=3,\n",
    "    step=1,\n",
    "    orientation='vertical',\n",
    "    description='Value:',\n",
    ")\n"
   ]
  },
  {
   "cell_type": "code",
   "execution_count": 102,
   "id": "15a2d5f3-9032-40c9-8112-826e9b1ca44b",
   "metadata": {},
   "outputs": [
    {
     "data": {
      "application/vnd.jupyter.widget-view+json": {
       "model_id": "1ad714fb24944a99b01dbe665a68c6c6",
       "version_major": 2,
       "version_minor": 0
      },
      "text/plain": [
       "FloatSlider(value=0.0)"
      ]
     },
     "metadata": {},
     "output_type": "display_data"
    }
   ],
   "source": [
    "widgets.FloatSlider()"
   ]
  },
  {
   "cell_type": "code",
   "execution_count": 103,
   "id": "e21ac3fb-e99e-4068-a484-8b209a02b9a3",
   "metadata": {},
   "outputs": [
    {
     "data": {
      "application/vnd.jupyter.widget-view+json": {
       "model_id": "c154e2d0603f47d29c9e675e9f0e7f9a",
       "version_major": 2,
       "version_minor": 0
      },
      "text/plain": [
       "IntRangeSlider(value=(3, 5), description='Int Range :', max=10)"
      ]
     },
     "metadata": {},
     "output_type": "display_data"
    }
   ],
   "source": [
    "widgets.IntRangeSlider(\n",
    "    value=[3, 5],\n",
    "    min=0,\n",
    "    max=10,\n",
    "    step=1,\n",
    "    description=\"Int Range :\")"
   ]
  },
  {
   "cell_type": "markdown",
   "id": "a08c73ce-84e0-4710-acef-a5545ac97a40",
   "metadata": {},
   "source": [
    "### widget의 Value 수정하기"
   ]
  },
  {
   "cell_type": "code",
   "execution_count": 104,
   "id": "391e399a-4841-455f-857c-0e174e622d44",
   "metadata": {},
   "outputs": [
    {
     "data": {
      "application/vnd.jupyter.widget-view+json": {
       "model_id": "95e369f436ce4049bf5a46aa3fe8f42c",
       "version_major": 2,
       "version_minor": 0
      },
      "text/plain": [
       "IntSlider(value=7, description='Value:', max=10)"
      ]
     },
     "metadata": {},
     "output_type": "display_data"
    }
   ],
   "source": [
    "int_widget = widgets.IntSlider(\n",
    "    value=7,\n",
    "    min=0,\n",
    "    max=10,\n",
    "    step=1,\n",
    "    orientation='horizontal',\n",
    "    description='Value:',\n",
    ")\n",
    "display(int_widget)"
   ]
  },
  {
   "cell_type": "code",
   "execution_count": 105,
   "id": "930858a5-2d60-4b34-90d6-a638b2147fbd",
   "metadata": {},
   "outputs": [
    {
     "data": {
      "text/plain": [
       "7"
      ]
     },
     "execution_count": 105,
     "metadata": {},
     "output_type": "execute_result"
    }
   ],
   "source": [
    "int_widget.value"
   ]
  },
  {
   "cell_type": "code",
   "execution_count": 106,
   "id": "07c7a73c-12a8-4621-8c61-46e301f8c463",
   "metadata": {},
   "outputs": [],
   "source": [
    "int_widget.value = 8"
   ]
  },
  {
   "cell_type": "markdown",
   "id": "647c6b3a-47b5-4d57-a2b5-97c578ade518",
   "metadata": {},
   "source": [
    "### Text\n",
    "- Slider 형태가 아닌 Input Box 형태\n",
    "- Bounded가 들어간 함수는 범위 제한이 존재하고, Bounded가 없는 함수는 범위 제한이 없음"
   ]
  },
  {
   "cell_type": "code",
   "execution_count": 107,
   "id": "0d259690-6cfe-4bbe-8257-ad83483a2c66",
   "metadata": {},
   "outputs": [
    {
     "data": {
      "application/vnd.jupyter.widget-view+json": {
       "model_id": "2b5c1570f60644d78696534f900b3b0b",
       "version_major": 2,
       "version_minor": 0
      },
      "text/plain": [
       "BoundedIntText(value=7, description='Text:', max=10)"
      ]
     },
     "metadata": {},
     "output_type": "display_data"
    }
   ],
   "source": [
    "widgets.BoundedIntText(\n",
    "    value=7,\n",
    "    min=0,\n",
    "    max=10,\n",
    "    step=1,\n",
    "    description='Text:',\n",
    "    disabled=False\n",
    ")"
   ]
  },
  {
   "cell_type": "code",
   "execution_count": 108,
   "id": "ac6036fa-4404-4709-b8ca-69dbb5060b76",
   "metadata": {},
   "outputs": [
    {
     "data": {
      "application/vnd.jupyter.widget-view+json": {
       "model_id": "0b8b7c56d4224a5abff877739503cca0",
       "version_major": 2,
       "version_minor": 0
      },
      "text/plain": [
       "IntText(value=7, description='Any:')"
      ]
     },
     "metadata": {},
     "output_type": "display_data"
    }
   ],
   "source": [
    "widgets.IntText(\n",
    "    value=7,\n",
    "    description='Any:',\n",
    "    disabled=False\n",
    ")"
   ]
  },
  {
   "cell_type": "code",
   "execution_count": 109,
   "id": "f281b46d-8647-44df-a52d-03448ccadd45",
   "metadata": {},
   "outputs": [
    {
     "data": {
      "application/vnd.jupyter.widget-view+json": {
       "model_id": "fca2aa5c8d514286b5300300987c371b",
       "version_major": 2,
       "version_minor": 0
      },
      "text/plain": [
       "BoundedIntText(value=7, description='Text:', max=10)"
      ]
     },
     "metadata": {},
     "output_type": "display_data"
    }
   ],
   "source": [
    "bounded_widget = widgets.BoundedIntText(\n",
    "    value=7,\n",
    "    min=0,\n",
    "    max=10,\n",
    "    step=1,\n",
    "    description='Text:',\n",
    "    disabled=False\n",
    ")\n",
    "display(bounded_widget)"
   ]
  },
  {
   "cell_type": "code",
   "execution_count": 110,
   "id": "230df096-0fc5-4295-9cb2-eca2689380bd",
   "metadata": {},
   "outputs": [
    {
     "data": {
      "text/plain": [
       "7"
      ]
     },
     "execution_count": 110,
     "metadata": {},
     "output_type": "execute_result"
    }
   ],
   "source": [
    "bounded_widget.value"
   ]
  },
  {
   "cell_type": "markdown",
   "id": "427dcb9d-32ff-48d6-be67-2deb5b2ef204",
   "metadata": {},
   "source": [
    "### String widgets\n",
    "- Text를 입력할 수 있는 위젯\n",
    "- Text, Textarea"
   ]
  },
  {
   "cell_type": "code",
   "execution_count": 111,
   "id": "3c6cb222-e9a2-41dc-84d8-9ee337926d8b",
   "metadata": {},
   "outputs": [
    {
     "data": {
      "application/vnd.jupyter.widget-view+json": {
       "model_id": "d9880f88a37d4a30813d8ed3d5bd4e78",
       "version_major": 2,
       "version_minor": 0
      },
      "text/plain": [
       "Text(value='Hello World', description='String:', placeholder='Type something')"
      ]
     },
     "metadata": {},
     "output_type": "display_data"
    }
   ],
   "source": [
    "widgets.Text(\n",
    "    value='Hello World',\n",
    "    placeholder='Type something',\n",
    "    description='String:'\n",
    ")"
   ]
  },
  {
   "cell_type": "code",
   "execution_count": 112,
   "id": "a309b4eb-26ed-4caa-8e83-54b60ba3ea98",
   "metadata": {},
   "outputs": [
    {
     "data": {
      "application/vnd.jupyter.widget-view+json": {
       "model_id": "dbd61d8cf131408f97579ffb8f268034",
       "version_major": 2,
       "version_minor": 0
      },
      "text/plain": [
       "Textarea(value='Hello World', description='String:', placeholder='Type something')"
      ]
     },
     "metadata": {},
     "output_type": "display_data"
    }
   ],
   "source": [
    "widgets.Textarea(\n",
    "    value='Hello World',\n",
    "    placeholder='Type something',\n",
    "    description='String:'\n",
    ")"
   ]
  },
  {
   "cell_type": "code",
   "execution_count": 113,
   "id": "21a71cc0-3889-4a8c-9ee2-846013e36254",
   "metadata": {},
   "outputs": [
    {
     "data": {
      "application/vnd.jupyter.widget-view+json": {
       "model_id": "85d54576901647878301edd64e485270",
       "version_major": 2,
       "version_minor": 0
      },
      "text/plain": [
       "Password(description='Password:', placeholder='Enter password')"
      ]
     },
     "metadata": {},
     "output_type": "display_data"
    }
   ],
   "source": [
    "widgets.Password(\n",
    "    value='password',\n",
    "    placeholder='Enter password',\n",
    "    description='Password:'\n",
    ")"
   ]
  },
  {
   "cell_type": "markdown",
   "id": "5708b342-8039-47d0-8ea4-7d76cc22386b",
   "metadata": {},
   "source": [
    "### Boolean widgets\n",
    "- True, False를 표현할 수 있는 위젯\n",
    "- ToggleButton, Checkbox\n"
   ]
  },
  {
   "cell_type": "code",
   "execution_count": 114,
   "id": "6f6fae6e-d471-4bf9-baa2-6325ff61a117",
   "metadata": {},
   "outputs": [
    {
     "data": {
      "application/vnd.jupyter.widget-view+json": {
       "model_id": "16e4a8cd629a4dd39efa46a208199f82",
       "version_major": 2,
       "version_minor": 0
      },
      "text/plain": [
       "ToggleButton(value=False, description='Click me', icon='check', tooltip='Description')"
      ]
     },
     "metadata": {},
     "output_type": "display_data"
    }
   ],
   "source": [
    "widgets.ToggleButton(\n",
    "    value=False,\n",
    "    description='Click me',\n",
    "    button_style='', # 'success', 'info', 'warning', 'danger', ''\n",
    "    tooltip='Description',\n",
    "    icon='check' # FontAwesome에서 확인할 수 있음 : https://fontawesome.com/v4.7/icons/\n",
    ")"
   ]
  },
  {
   "cell_type": "code",
   "execution_count": 115,
   "id": "eef24e69-24ec-408f-8abb-a543cbfdbf16",
   "metadata": {},
   "outputs": [
    {
     "data": {
      "application/vnd.jupyter.widget-view+json": {
       "model_id": "3d50f770ebe4440bbde539de25d8e02f",
       "version_major": 2,
       "version_minor": 0
      },
      "text/plain": [
       "ToggleButton(value=False, button_style='info', description='Click me(info)', icon='bath', tooltip='Description…"
      ]
     },
     "metadata": {},
     "output_type": "display_data"
    }
   ],
   "source": [
    "widgets.ToggleButton(\n",
    "    value=False,\n",
    "    description='Click me(info)',\n",
    "    button_style='info', # 'success', 'info', 'warning', 'danger', ''\n",
    "    tooltip='Description',\n",
    "    icon='bath' # FontAwesome에서 확인할 수 있음 : https://fontawesome.com/v4.7/icons/\n",
    ")"
   ]
  },
  {
   "cell_type": "code",
   "execution_count": 116,
   "id": "d822bfb2-d30e-4fab-8ba6-b97883083c76",
   "metadata": {},
   "outputs": [
    {
     "data": {
      "application/vnd.jupyter.widget-view+json": {
       "model_id": "95a3615cee824a2db04382087cf00e97",
       "version_major": 2,
       "version_minor": 0
      },
      "text/plain": [
       "ToggleButton(value=False, button_style='danger', description='Click me(danger)', icon='at', tooltip='Descripti…"
      ]
     },
     "metadata": {},
     "output_type": "display_data"
    }
   ],
   "source": [
    "widgets.ToggleButton(\n",
    "    value=False,\n",
    "    description='Click me(danger)',\n",
    "    button_style='danger', # 'success', 'info', 'warning', 'danger', ''\n",
    "    tooltip='Description',\n",
    "    icon='at' # FontAwesome에서 확인할 수 있음 : https://fontawesome.com/v4.7/icons/\n",
    ")"
   ]
  },
  {
   "cell_type": "code",
   "execution_count": 117,
   "id": "bf9e79c2-bd63-4196-8f5a-282901ea96b7",
   "metadata": {},
   "outputs": [
    {
     "data": {
      "application/vnd.jupyter.widget-view+json": {
       "model_id": "6bd951a8f870451997ee0fcbc540e1bc",
       "version_major": 2,
       "version_minor": 0
      },
      "text/plain": [
       "ToggleButton(value=False, button_style='success', description='Click me(sucess)', icon='battery-3', tooltip='D…"
      ]
     },
     "metadata": {},
     "output_type": "display_data"
    }
   ],
   "source": [
    "widgets.ToggleButton(\n",
    "    value=False,\n",
    "    description='Click me(sucess)',\n",
    "    button_style='success', # 'success', 'info', 'warning', 'danger', ''\n",
    "    tooltip='Description',\n",
    "    icon='battery-3' # FontAwesome에서 확인할 수 있음 : https://fontawesome.com/v4.7/icons/\n",
    ")"
   ]
  },
  {
   "cell_type": "code",
   "execution_count": 118,
   "id": "5103fe72-95d8-4b55-aede-dd50953803f7",
   "metadata": {},
   "outputs": [
    {
     "data": {
      "application/vnd.jupyter.widget-view+json": {
       "model_id": "02dada9c0c4141199b3ff24540be758b",
       "version_major": 2,
       "version_minor": 0
      },
      "text/plain": [
       "Checkbox(value=False, description='Check me', indent=False)"
      ]
     },
     "metadata": {},
     "output_type": "display_data"
    }
   ],
   "source": [
    "widgets.Checkbox(\n",
    "    value=False,\n",
    "    description='Check me',\n",
    "    indent=False\n",
    ")"
   ]
  },
  {
   "cell_type": "code",
   "execution_count": 119,
   "id": "a352befe-201e-4988-9876-ae9b3732c312",
   "metadata": {},
   "outputs": [
    {
     "data": {
      "application/vnd.jupyter.widget-view+json": {
       "model_id": "193ada278fde43658b36c5bec08818de",
       "version_major": 2,
       "version_minor": 0
      },
      "text/plain": [
       "Checkbox(value=False, description='Check me')"
      ]
     },
     "metadata": {},
     "output_type": "display_data"
    }
   ],
   "source": [
    "widgets.Checkbox(\n",
    "    value=False,\n",
    "    description='Check me',\n",
    "    indent=True\n",
    ")"
   ]
  },
  {
   "cell_type": "markdown",
   "id": "9ed5e9a6-550f-45e1-a188-3fba1e2fbfa8",
   "metadata": {},
   "source": [
    "### Selection widgets\n",
    "- 선택을 할 수 있는 위젯\n",
    "- Dropdown, RadioButtons"
   ]
  },
  {
   "cell_type": "code",
   "execution_count": 120,
   "id": "f92b99f2-8d37-41ef-ac99-f7d327aa012a",
   "metadata": {},
   "outputs": [
    {
     "data": {
      "application/vnd.jupyter.widget-view+json": {
       "model_id": "c65bf01cc5d24d43b12e06d036876806",
       "version_major": 2,
       "version_minor": 0
      },
      "text/plain": [
       "Dropdown(description='Number:', index=1, options=('1', '2', '3'), value='2')"
      ]
     },
     "metadata": {},
     "output_type": "display_data"
    }
   ],
   "source": [
    "widgets.Dropdown(\n",
    "    options=['1', '2', '3'],\n",
    "    value='2',\n",
    "    description='Number:',\n",
    "    disabled=False,\n",
    ")"
   ]
  },
  {
   "cell_type": "code",
   "execution_count": 121,
   "id": "2fb7c766-4a19-42b2-98fd-d3e14029d50c",
   "metadata": {},
   "outputs": [
    {
     "data": {
      "application/vnd.jupyter.widget-view+json": {
       "model_id": "b7cb1813e35f4e53868b3bb491e21d69",
       "version_major": 2,
       "version_minor": 0
      },
      "text/plain": [
       "Dropdown(description='Number:', index=1, options=(('One', 1), ('Two', 2), ('Three', 3)), value=2)"
      ]
     },
     "metadata": {},
     "output_type": "display_data"
    }
   ],
   "source": [
    "widgets.Dropdown(\n",
    "    options=[('One', 1), ('Two', 2), ('Three', 3)], # (key, value) 형태\n",
    "    value=2,\n",
    "    description='Number:',\n",
    ")"
   ]
  },
  {
   "cell_type": "code",
   "execution_count": 122,
   "id": "1d157034-52cc-4f20-9007-5752bef604c5",
   "metadata": {},
   "outputs": [
    {
     "data": {
      "application/vnd.jupyter.widget-view+json": {
       "model_id": "a4a78b4402094e4484781a69241f1b76",
       "version_major": 2,
       "version_minor": 0
      },
      "text/plain": [
       "RadioButtons(description='Topping:', options=('pepperoni', 'pineapple', 'anchovies'), value='pepperoni')"
      ]
     },
     "metadata": {},
     "output_type": "display_data"
    }
   ],
   "source": [
    "widgets.RadioButtons(\n",
    "    options=['pepperoni', 'pineapple', 'anchovies'],\n",
    "    description='Topping:',\n",
    ")"
   ]
  },
  {
   "cell_type": "markdown",
   "id": "9f988439-9a67-4b4d-9041-1e86ac913a5b",
   "metadata": {},
   "source": []
  },
  {
   "cell_type": "markdown",
   "id": "1d6f5b1c-500a-453b-9f80-f387a204337a",
   "metadata": {},
   "source": [
    "### 그 외"
   ]
  },
  {
   "cell_type": "code",
   "execution_count": 123,
   "id": "a46eb6dd-48a1-45fc-9222-b53cf32e8060",
   "metadata": {},
   "outputs": [
    {
     "data": {
      "application/vnd.jupyter.widget-view+json": {
       "model_id": "ee6f623960664780a37b59dbcde61994",
       "version_major": 2,
       "version_minor": 0
      },
      "text/plain": [
       "HBox(children=(Play(value=50, description='Press play', interval=500), IntSlider(value=0)))"
      ]
     },
     "metadata": {},
     "output_type": "display_data"
    }
   ],
   "source": [
    "play = widgets.Play(\n",
    "    value=50,\n",
    "    min=0,\n",
    "    max=100,\n",
    "    step=1,\n",
    "    interval=500,\n",
    "    description=\"Press play\",\n",
    "    disabled=False\n",
    ")\n",
    "slider = widgets.IntSlider()\n",
    "widgets.jslink((play, 'value'), (slider, 'value'))\n",
    "widgets.HBox([play, slider])"
   ]
  },
  {
   "cell_type": "code",
   "execution_count": 124,
   "id": "ae5f901a-6aaf-4489-93d2-9b7c87da5879",
   "metadata": {},
   "outputs": [
    {
     "data": {
      "application/vnd.jupyter.widget-view+json": {
       "model_id": "794904675f46438eaf0dfc36405532ce",
       "version_major": 2,
       "version_minor": 0
      },
      "text/plain": [
       "FileUpload(value={}, description='Upload')"
      ]
     },
     "metadata": {},
     "output_type": "display_data"
    }
   ],
   "source": [
    "upload = widgets.FileUpload(\n",
    "    accept='',  # 허용할 확장자\n",
    "    multiple=False  # 여러 파일을 업로드하고 싶으면 True, 단일 파일은 False\n",
    ")\n",
    "upload"
   ]
  },
  {
   "cell_type": "code",
   "execution_count": 136,
   "id": "b5507cd7-c405-4465-8ede-da474635afa8",
   "metadata": {},
   "outputs": [
    {
     "data": {
      "application/vnd.jupyter.widget-view+json": {
       "model_id": "e1362ba48e4747478fe2f23192fa5271",
       "version_major": 2,
       "version_minor": 0
      },
      "text/plain": [
       "Image(value=b'', height='400', width='300')"
      ]
     },
     "metadata": {},
     "output_type": "display_data"
    }
   ],
   "source": [
    "file = open(\"metamong.png\", \"rb\")\n",
    "image = file.read()\n",
    "widgets.Image(\n",
    "    value=image,\n",
    "    format='png',\n",
    "    width=300,\n",
    "    height=400,\n",
    ")"
   ]
  },
  {
   "cell_type": "code",
   "execution_count": null,
   "id": "4bcfc0f8-350c-4eca-b5e2-557818c26a9a",
   "metadata": {},
   "outputs": [
    {
     "data": {
      "application/vnd.jupyter.widget-view+json": {
       "model_id": "c7a77be495c7410fa0e1a495185538c9",
       "version_major": 2,
       "version_minor": 0
      },
      "text/plain": [
       "DatePicker(value=None, description='Pick a Date')"
      ]
     },
     "metadata": {},
     "output_type": "display_data"
    }
   ],
   "source": [
    "widgets.DatePicker(\n",
    "    description='Pick a Date',\n",
    "    disabled=False\n",
    ")"
   ]
  },
  {
   "cell_type": "markdown",
   "id": "164e099a-1653-49eb-94c6-c05df12d60fc",
   "metadata": {},
   "source": [
    "## Widget Events\n",
    "- 버튼이 클릭되었을 때 특정 작업을 하고 싶은 경우 `on_click`에 함수를 넘겨주면 됨"
   ]
  },
  {
   "cell_type": "code",
   "execution_count": null,
   "id": "1615572c-0182-4be4-805c-2fb80caa25f2",
   "metadata": {},
   "outputs": [
    {
     "data": {
      "application/vnd.jupyter.widget-view+json": {
       "model_id": "77869aa784104f11a9386e3adc6f73fd",
       "version_major": 2,
       "version_minor": 0
      },
      "text/plain": [
       "Button(description='Click Me!', style=ButtonStyle())"
      ]
     },
     "metadata": {},
     "output_type": "display_data"
    },
    {
     "data": {
      "application/vnd.jupyter.widget-view+json": {
       "model_id": "134f9e6e322349a4b9bdc8b89844f6bc",
       "version_major": 2,
       "version_minor": 0
      },
      "text/plain": [
       "Output()"
      ]
     },
     "metadata": {},
     "output_type": "display_data"
    }
   ],
   "source": [
    "button = widgets.Button(description=\"Click Me!\")\n",
    "output = widgets.Output()\n",
    "\n",
    "display(button, output)\n",
    "\n",
    "def on_button_clicked(button):\n",
    "    with output:\n",
    "        print(\"Hello world!\")\n",
    "\n",
    "button.on_click(on_button_clicked)"
   ]
  },
  {
   "cell_type": "markdown",
   "id": "5b8e5b19-d2ae-4358-8f65-72957f2edba5",
   "metadata": {},
   "source": [
    "### Observe\n",
    "- 위젯의 속성이 변경될 때 업데이트해주는 위젯\n"
   ]
  },
  {
   "cell_type": "code",
   "execution_count": null,
   "id": "c6933a37-2e20-47d0-b61f-2aeedb3d94d5",
   "metadata": {},
   "outputs": [
    {
     "data": {
      "application/vnd.jupyter.widget-view+json": {
       "model_id": "e91305cccd3744418b253489cecf2cc4",
       "version_major": 2,
       "version_minor": 0
      },
      "text/plain": [
       "IntSlider(value=0)"
      ]
     },
     "metadata": {},
     "output_type": "display_data"
    },
    {
     "data": {
      "application/vnd.jupyter.widget-view+json": {
       "model_id": "fa5afe453b5c43ca8efe6c8d38d94b90",
       "version_major": 2,
       "version_minor": 0
      },
      "text/plain": [
       "Output()"
      ]
     },
     "metadata": {},
     "output_type": "display_data"
    }
   ],
   "source": [
    "int_range = widgets.IntSlider()\n",
    "output2 = widgets.Output()\n",
    "\n",
    "display(int_range, output2)\n",
    "\n",
    "def on_value_change(change):\n",
    "    with output2:\n",
    "        print(change['new'])\n",
    "\n",
    "int_range.observe(on_value_change, names='value')"
   ]
  },
  {
   "cell_type": "markdown",
   "id": "91f8f2d5-b4f2-4750-b5d2-73b7410efebd",
   "metadata": {},
   "source": [
    "## Interact\n",
    "- `@interact` 데코레이터를 사용하면 UI가 생성됨"
   ]
  },
  {
   "cell_type": "code",
   "execution_count": null,
   "id": "8e923503-97ac-4e80-9aa9-d378df70b489",
   "metadata": {},
   "outputs": [
    {
     "data": {
      "application/vnd.jupyter.widget-view+json": {
       "model_id": "cbd6e57b3f504bdc973ad7e6861e0c29",
       "version_major": 2,
       "version_minor": 0
      },
      "text/plain": [
       "interactive(children=(Checkbox(value=True, description='x'), FloatSlider(value=1.0, description='y', max=3.0, …"
      ]
     },
     "metadata": {},
     "output_type": "display_data"
    }
   ],
   "source": [
    "from ipywidgets import interact\n",
    "\n",
    "@interact(x=True, y=1.0)\n",
    "def g(x, y):\n",
    "    return (x, y)"
   ]
  },
  {
   "cell_type": "code",
   "execution_count": null,
   "id": "477c8d66-ca2f-4f3c-a1b9-347d2125341c",
   "metadata": {},
   "outputs": [
    {
     "data": {
      "application/vnd.jupyter.widget-view+json": {
       "model_id": "a192f8055a2c44ebaedff096fd3c3103",
       "version_major": 2,
       "version_minor": 0
      },
      "text/plain": [
       "interactive(children=(Checkbox(value=True, description='x'), FloatSlider(value=1.0, description='y', max=3.0, …"
      ]
     },
     "metadata": {},
     "output_type": "display_data"
    }
   ],
   "source": [
    "from ipywidgets import interact, fixed\n",
    "\n",
    "@interact(x=True, y=1.0, z=fixed(10))\n",
    "def g(x, y, z):\n",
    "    return (x, y, z)"
   ]
  },
  {
   "cell_type": "code",
   "execution_count": null,
   "id": "cb8e1731-79fe-4365-b8e1-9c8e1749f2f8",
   "metadata": {},
   "outputs": [
    {
     "data": {
      "application/vnd.jupyter.widget-view+json": {
       "model_id": "cdc5008255e745829981babff5b4a170",
       "version_major": 2,
       "version_minor": 0
      },
      "text/plain": [
       "interactive(children=(Checkbox(value=True, description='x'), FloatSlider(value=1.0, description='y', max=3.0, …"
      ]
     },
     "metadata": {},
     "output_type": "display_data"
    }
   ],
   "source": [
    "from ipywidgets import interact, fixed\n",
    "\n",
    "@interact(x=True, y=1.0, z=10)\n",
    "def g(x, y, z):\n",
    "    return (x, y, z)"
   ]
  },
  {
   "cell_type": "markdown",
   "id": "d03aaf5d-887b-455f-a455-95dde6a1bccd",
   "metadata": {},
   "source": [
    "### Box\n",
    "- VBox : 수직으로 추가\n",
    "- HBox : 수평으로 추가"
   ]
  },
  {
   "cell_type": "code",
   "execution_count": null,
   "id": "ac5f7a03-0c52-4a3a-9f68-5976e4652fb4",
   "metadata": {},
   "outputs": [
    {
     "data": {
      "application/vnd.jupyter.widget-view+json": {
       "model_id": "5b114479096146b6a2a6b3d22dfbbfa6",
       "version_major": 2,
       "version_minor": 0
      },
      "text/plain": [
       "VBox(children=(IntSlider(value=1, description='$x$'),))"
      ]
     },
     "metadata": {},
     "output_type": "display_data"
    }
   ],
   "source": [
    "slider = widgets.IntSlider(description=\"$x$\", value=1)\n",
    "widgets.VBox([slider])"
   ]
  },
  {
   "cell_type": "code",
   "execution_count": null,
   "id": "99d49e5f-ceb2-413d-92f2-c88840a7905d",
   "metadata": {},
   "outputs": [
    {
     "data": {
      "application/vnd.jupyter.widget-view+json": {
       "model_id": "9838e7a557eb40c3892408e135aff318",
       "version_major": 2,
       "version_minor": 0
      },
      "text/plain": [
       "VBox(children=(IntSlider(value=1, description='$x$'), FloatSlider(value=2.0, description='$y$')))"
      ]
     },
     "metadata": {},
     "output_type": "display_data"
    }
   ],
   "source": [
    "slider = widgets.IntSlider(description=\"$x$\", value=1)\n",
    "slider2 = widgets.FloatSlider(description=\"$y$\", value=2.0)\n",
    "widgets.VBox([slider, slider2])"
   ]
  },
  {
   "cell_type": "code",
   "execution_count": null,
   "id": "07e34093-8244-4436-9f36-cd76d38a88b9",
   "metadata": {},
   "outputs": [
    {
     "data": {
      "application/vnd.jupyter.widget-view+json": {
       "model_id": "d8293c6595ed4411a3eda2e562a64ea7",
       "version_major": 2,
       "version_minor": 0
      },
      "text/plain": [
       "HBox(children=(VBox(children=(Button(description='correct', style=ButtonStyle()), Button(description='horse', …"
      ]
     },
     "metadata": {},
     "output_type": "display_data"
    }
   ],
   "source": [
    "from ipywidgets import Button, HBox, VBox\n",
    "\n",
    "words = ['correct', 'horse', 'battery', 'staple']\n",
    "items = [Button(description=w) for w in words]\n",
    "left_box = VBox([items[0], items[1]])\n",
    "right_box = VBox([items[2], items[3]])\n",
    "HBox([left_box, right_box])"
   ]
  },
  {
   "cell_type": "markdown",
   "id": "e57b73b3-f3f9-41ed-b9ff-b1ae082f2d4e",
   "metadata": {},
   "source": [
    "### 활용 예시"
   ]
  },
  {
   "cell_type": "code",
   "execution_count": null,
   "id": "2e2d16ed-5263-49c8-9ec9-e8def83af171",
   "metadata": {},
   "outputs": [
    {
     "data": {
      "application/vnd.jupyter.widget-view+json": {
       "model_id": "0a6cbadc3a8f4fa49835fd410155bed7",
       "version_major": 2,
       "version_minor": 0
      },
      "text/plain": [
       "VBox(children=(FloatSlider(value=4.0, description='$x$'), FloatText(value=0.0, description='$x^2$', disabled=T…"
      ]
     },
     "metadata": {},
     "output_type": "display_data"
    }
   ],
   "source": [
    "slider = widgets.FloatSlider(description=\"$x$\", value=4)\n",
    "text = widgets.FloatText(disabled=True, description=\"$x^2$\")\n",
    "\n",
    "def compute(*ignore):\n",
    "    text.value = str(slider.value ** 2)\n",
    "    \n",
    "slider.observe(compute, 'value')\n",
    "widgets.VBox([slider, text])"
   ]
  },
  {
   "cell_type": "code",
   "execution_count": null,
   "id": "693dbce4-b6b5-4da8-b3ab-2372d2395932",
   "metadata": {},
   "outputs": [],
   "source": []
  }
 ],
 "metadata": {
  "kernelspec": {
   "display_name": "Python 3.9.13 64-bit",
   "language": "python",
   "name": "python3"
  },
  "language_info": {
   "codemirror_mode": {
    "name": "ipython",
    "version": 3
   },
   "file_extension": ".py",
   "mimetype": "text/x-python",
   "name": "python",
   "nbconvert_exporter": "python",
   "pygments_lexer": "ipython3",
   "version": "3.9.13"
  },
  "vscode": {
   "interpreter": {
    "hash": "b0fa6594d8f4cbf19f97940f81e996739fb7646882a419484c72d19e05852a7e"
   }
  }
 },
 "nbformat": 4,
 "nbformat_minor": 5
}
